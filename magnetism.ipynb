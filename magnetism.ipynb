{
  "nbformat": 4,
  "nbformat_minor": 0,
  "metadata": {
    "colab": {
      "name": "magnetism.ipynb",
      "provenance": [],
      "authorship_tag": "ABX9TyPiP1EmXKNbllg7CaJSYUO9",
      "include_colab_link": true
    },
    "kernelspec": {
      "name": "python3",
      "display_name": "Python 3"
    },
    "language_info": {
      "name": "python"
    }
  },
  "cells": [
    {
      "cell_type": "markdown",
      "metadata": {
        "id": "view-in-github",
        "colab_type": "text"
      },
      "source": [
        "<a href=\"https://colab.research.google.com/github/micsche/GANComic/blob/main/magnetism.ipynb\" target=\"_parent\"><img src=\"https://colab.research.google.com/assets/colab-badge.svg\" alt=\"Open In Colab\"/></a>"
      ]
    },
    {
      "cell_type": "code",
      "execution_count": null,
      "metadata": {
        "id": "NRwvJfudK8Y2"
      },
      "outputs": [],
      "source": [
        "$$"
      ]
    },
    {
      "cell_type": "markdown",
      "source": [
        "$$ ϕ=BA$$\n",
        "- B is flux density Tesla\n",
        "- A is the area perpendicular to flux lines \"m square\"\n",
        "- ϕ is flux in Webers \n",
        "\n",
        "\n",
        "### Size of force on conductor carrying current in a magnetic field\n",
        "$$ F = BIl $$\n",
        "where \n",
        "- I is current Amps\n",
        "- l is length of wire\n",
        "\n",
        "Force on each electron\n",
        "$$ F = Bev $$\n",
        "\n",
        "Force on a charge\n",
        "$$ F = Bqv $$\n",
        "\n",
        "$$ Bev = {{mv^2}\\over{r}} $$\n",
        "\n",
        "### Induced EMF in a straight conductor\n",
        "\n",
        "$$ E= Blv $$\n",
        "\n",
        "### induced EMF in a coil\n",
        "\n",
        "$$ E = -N {{d BA}\\over{dt}} = -N {{d\\phi}\\over{dt}}$$\n",
        "\n",
        "where v is velocity\n",
        "\n",
        "## Rotating Rectangular Coil\n",
        "\n",
        "$$ E = 2.π.f.BAN.sin(2\\pi.ft)$$\n",
        "\n",
        "where \n",
        "- A is Area\n",
        "- f is freq of rotation \n",
        "- N is number of turns\n"
      ],
      "metadata": {
        "id": "iY8mDhbgL_xW"
      }
    },
    {
      "cell_type": "code",
      "source": [
        "# Question 1\n",
        "# Magnetic field is a region around a magnetic material or a moving electric charge within which the force of magnetism acts.\n",
        "phi = 5e-9\n",
        "A = 0.05*0.06\n",
        "B = phi/A\n",
        "print(B,\"Teslas\")"
      ],
      "metadata": {
        "colab": {
          "base_uri": "https://localhost:8080/"
        },
        "id": "l_Nh6baLQj4Q",
        "outputId": "9b4aeb27-0805-4e2e-e9db-17e0ebf971fa"
      },
      "execution_count": 1,
      "outputs": [
        {
          "output_type": "stream",
          "name": "stdout",
          "text": [
            "1.6666666666666667e-06 Teslas\n"
          ]
        }
      ]
    },
    {
      "cell_type": "code",
      "source": [
        "import math\n",
        "# Question 2\n",
        "l=0.1\n",
        "B=5e-5\n",
        "theta = math.radians(30)\n",
        "I = 4\n",
        "\n",
        "\n",
        "F = B * I * l * math.sin(theta)\n",
        "\n",
        "print(F,\"newtons\")"
      ],
      "metadata": {
        "colab": {
          "base_uri": "https://localhost:8080/"
        },
        "id": "_sdbKt7ERm_0",
        "outputId": "5c42380f-60ce-4fd0-f86b-0c6b855c96e8"
      },
      "execution_count": 3,
      "outputs": [
        {
          "output_type": "stream",
          "name": "stdout",
          "text": [
            "9.999999999999999e-06 newtons\n"
          ]
        }
      ]
    },
    {
      "cell_type": "code",
      "source": [
        "# Question 3\n",
        "\n",
        "v = 2e7\n",
        "q = 1.6e-19\n",
        "B = 0.005\n",
        "m = 9.1e-31\n",
        "# a A magnetic field is acting on electrons pulling them in\n",
        "\n",
        "r = B*q*v/(m*v*v)\n",
        "print(r,\"m\")\n"
      ],
      "metadata": {
        "colab": {
          "base_uri": "https://localhost:8080/"
        },
        "id": "mvdjaQZpSW-a",
        "outputId": "ac80ed60-f994-4bcf-f6a4-dfb566e4ce2d"
      },
      "execution_count": 4,
      "outputs": [
        {
          "output_type": "stream",
          "name": "stdout",
          "text": [
            "43.95604395604395 m\n"
          ]
        }
      ]
    },
    {
      "cell_type": "code",
      "source": [
        "# Question 4\n",
        "\n",
        "N = 600\n",
        "r = 0.05\n",
        "V = 15\n",
        "\n",
        "#a the coil cross the magnetic flux lines \n",
        "db = V/(N*math.pi*r*r)\n",
        "\n",
        "print(db,\"Teslas per second\")\n"
      ],
      "metadata": {
        "colab": {
          "base_uri": "https://localhost:8080/"
        },
        "id": "0fQfsrEjTzIG",
        "outputId": "2c8b39bb-fce1-4c06-f414-350776cb33af"
      },
      "execution_count": 5,
      "outputs": [
        {
          "output_type": "stream",
          "name": "stdout",
          "text": [
            "3.183098861837906 Teslas per second\n"
          ]
        }
      ]
    },
    {
      "cell_type": "code",
      "source": [
        "# Question 5\n",
        "B = 2e-3\n",
        "l = 0.15\n",
        "v = 0.1\n",
        "\n",
        "E = B * l * v\n",
        "print(E,\"Volts\")"
      ],
      "metadata": {
        "colab": {
          "base_uri": "https://localhost:8080/"
        },
        "id": "FWc0t1AWVn7Q",
        "outputId": "5952f293-9ac2-402b-98e8-a2d359db889e"
      },
      "execution_count": 6,
      "outputs": [
        {
          "output_type": "stream",
          "name": "stdout",
          "text": [
            "2.9999999999999997e-05 Volts\n"
          ]
        }
      ]
    },
    {
      "cell_type": "code",
      "source": [
        "# Question 6\n",
        "\n",
        "f = 50 \n",
        "V = 165\n",
        "\n",
        "# a sine wave amplitude 165,frequency 50Hz\n",
        "print(V/math.sqrt(2),\"V\")\n",
        "\n",
        "R = 500\n",
        "print(V/R,\"Amps peak\")"
      ],
      "metadata": {
        "colab": {
          "base_uri": "https://localhost:8080/"
        },
        "id": "AY_Xl2TqWtjz",
        "outputId": "69f05556-efac-4864-fc18-628c69923320"
      },
      "execution_count": 7,
      "outputs": [
        {
          "output_type": "stream",
          "name": "stdout",
          "text": [
            "116.67261889578033 V\n",
            "0.33 Amps peak\n"
          ]
        }
      ]
    },
    {
      "cell_type": "code",
      "source": [
        "# Question 7\n",
        "\n",
        "t = 20e-3\n",
        "V = 70\n",
        "\n",
        "print(2/t,\"Hertz\")\n",
        "print(3*V,\"V\")\n",
        "print(3*V/math.sqrt(2),\"V rms\")\n"
      ],
      "metadata": {
        "colab": {
          "base_uri": "https://localhost:8080/"
        },
        "id": "aYF5zBJaXNeL",
        "outputId": "ca76a3ca-177a-4fe1-f7bd-b23c1524b1af"
      },
      "execution_count": 9,
      "outputs": [
        {
          "output_type": "stream",
          "name": "stdout",
          "text": [
            "100.0 Hertz\n",
            "210 V\n",
            "148.49242404917496 V\n"
          ]
        }
      ]
    },
    {
      "cell_type": "code",
      "source": [
        "# Question 8\n",
        "\n",
        "#a No. because no flux lines are crossed by rotation\n",
        "#b flux lines are crossed. Current is induced in conductors"
      ],
      "metadata": {
        "id": "MFwB0CJ2XvpJ"
      },
      "execution_count": 10,
      "outputs": []
    },
    {
      "cell_type": "code",
      "source": [
        "# Question 9\n",
        "\n",
        "v = 5e6\n",
        "B = 1e-4\n",
        "#a magnetic field puts a force on moving electrons\n",
        "\n",
        "e = 1.6e-19\n",
        "m = 9.1e-31\n",
        "\n",
        "r = B*e*v/(m*v*v)\n",
        "print(r,\"m\")\n"
      ],
      "metadata": {
        "colab": {
          "base_uri": "https://localhost:8080/"
        },
        "id": "ycm1NpfCYaJY",
        "outputId": "7c4a0a74-9358-4608-d1c8-a922128e3e8c"
      },
      "execution_count": 11,
      "outputs": [
        {
          "output_type": "stream",
          "name": "stdout",
          "text": [
            "3.5164835164835164 m\n"
          ]
        }
      ]
    },
    {
      "cell_type": "code",
      "source": [
        "# Question 10\n",
        "I = 2\n",
        "A = 0.1*0.08\n",
        "B = 0.5\n",
        "#a BC has no force as it does not cross flux lines\n",
        "#a AB and CD have opposing directional force\n",
        "\n",
        "Fab = B * I * 0.1\n",
        "Fbc = 0\n",
        "Fcd = B * I * 0.1\n",
        "\n",
        "print(Fab, Fbc, Fcd, \"Newtons\")"
      ],
      "metadata": {
        "colab": {
          "base_uri": "https://localhost:8080/"
        },
        "id": "_ZSJp89aZEgM",
        "outputId": "4cbed586-84b3-4f9f-b1dc-11c449c9275b"
      },
      "execution_count": 12,
      "outputs": [
        {
          "output_type": "stream",
          "name": "stdout",
          "text": [
            "0.1 0 0.1 Newtons\n"
          ]
        }
      ]
    },
    {
      "cell_type": "code",
      "source": [
        "# Question 11\n",
        "#a max pd is when coil is crossing B at greater speed i.e. when coil is flat with B lines\n",
        "#b increase speed, increase in coil length, increase magnetic flux strength\n"
      ],
      "metadata": {
        "id": "D3P7H8-PaIeL"
      },
      "execution_count": 13,
      "outputs": []
    },
    {
      "cell_type": "code",
      "source": [
        "# Question 12\n",
        "#0 as force is expereinced on movement within an magnetic field\n",
        "\n",
        "#bi conductor perpendicular to magnetic flux are subject to Force\n",
        "I = 2\n",
        "B = 1\n",
        "F = B * I * 0.03\n",
        "\n",
        "print(F,\"Newtons\")"
      ],
      "metadata": {
        "colab": {
          "base_uri": "https://localhost:8080/"
        },
        "id": "sXIxOa5Ka39C",
        "outputId": "0ffad9d1-6f00-47bf-8b34-87fbf670de19"
      },
      "execution_count": 14,
      "outputs": [
        {
          "output_type": "stream",
          "name": "stdout",
          "text": [
            "0.06 Newtons\n"
          ]
        }
      ]
    },
    {
      "cell_type": "code",
      "source": [
        "# Question 13\n",
        "\n",
        "N = 1\n",
        "\n",
        "dphi_dt = 10/0.1\n",
        "#a\n",
        "print(-dphi_dt)\n",
        "#b\n",
        "print(0)\n",
        "#c\n",
        "dphi_dt = -10/0.4\n",
        "print(-dphi_dt)\n",
        "#d Law of magnetic Induction\n",
        "#e these are opposing forces"
      ],
      "metadata": {
        "colab": {
          "base_uri": "https://localhost:8080/"
        },
        "id": "JnVkDbpobyae",
        "outputId": "a9d51bc7-763f-4a35-ac46-2762f4b6b70d"
      },
      "execution_count": 15,
      "outputs": [
        {
          "output_type": "stream",
          "name": "stdout",
          "text": [
            "-100.0\n",
            "0\n",
            "25.0\n"
          ]
        }
      ]
    },
    {
      "cell_type": "code",
      "source": [
        "# Question 14\n",
        "\n",
        "l = 0.52\n",
        "B = 0.3\n",
        "I = 5.5\n",
        "\n",
        "F = B * I * l\n",
        "print(F,\"Newtons\")"
      ],
      "metadata": {
        "colab": {
          "base_uri": "https://localhost:8080/"
        },
        "id": "ryOJlwStdOrR",
        "outputId": "f1f606a5-f3ae-4132-83ba-1014f48a4a71"
      },
      "execution_count": 16,
      "outputs": [
        {
          "output_type": "stream",
          "name": "stdout",
          "text": [
            "0.858 Newtons\n"
          ]
        }
      ]
    },
    {
      "cell_type": "code",
      "source": [
        "l = 0.105\n",
        "#i a magnet pair\n",
        "#ii S near CD and N far away\n",
        "#iii \n",
        "\n",
        "lp=0.12\n",
        "\n",
        "F = B * I * l\n",
        "F2 = F * 0.15/0.12\n",
        "M = F2/9.81\n",
        "\n",
        "print(M,\"kg\")\n",
        "\n",
        "#iv BC and CD do not cross magnetic flux lines when rotating\n",
        "#v double turns of wire, increase magnet strength\n",
        "#c motor, solenoid"
      ],
      "metadata": {
        "colab": {
          "base_uri": "https://localhost:8080/"
        },
        "id": "lNcb-Dx5de_h",
        "outputId": "2b0ba59e-ed35-4f87-b311-777158cfbcd4"
      },
      "execution_count": 19,
      "outputs": [
        {
          "output_type": "stream",
          "name": "stdout",
          "text": [
            "0.022075688073394495 kg\n"
          ]
        }
      ]
    },
    {
      "cell_type": "code",
      "source": [
        "# Question 15\n",
        "#a\n",
        "#B is the magnetic flux strength, Teslas\n",
        "# I is in Amps\n",
        "# L is metres\n",
        "# F is in Newtons\n",
        "\n",
        "\n",
        "#b B must be perpendicular to current flow\n",
        "\n",
        "A = 0.025*0.025\n",
        "I = 65\n",
        "L = 1\n",
        "\n",
        "W = 8290 * A * 9.81 * L\n",
        "B = W / (I * L)\n",
        "print(B,\"Teslas\")\n",
        "\n"
      ],
      "metadata": {
        "colab": {
          "base_uri": "https://localhost:8080/"
        },
        "id": "WHXQg8zFee7t",
        "outputId": "9bbee685-5105-4f7e-d55e-846e7a489d3e"
      },
      "execution_count": 20,
      "outputs": [
        {
          "output_type": "stream",
          "name": "stdout",
          "text": [
            "0.7819701923076926 Teslas\n"
          ]
        }
      ]
    },
    {
      "cell_type": "code",
      "source": [
        "# Question 16\n",
        "# Faraday - a magnetic field will interact with an electric circuit to produce an electromotive force (emf)\n",
        "# Lenz -  the direction of the electric current induced in a conductor by a changing magnetic field is such that the magnetic field created by the induced current opposes changes in the initial magnetic field\n",
        "\n",
        "#b Motor and Solenoid\n",
        "\n",
        "L = 40\n",
        "v = 900 *1000 / 3600\n",
        "th = math.radians(71.6)\n",
        "Bh = 1.6e-5\n",
        "\n",
        "\n",
        "#c from top there is a current going right to left, viewed as pilot\n",
        "B = math.tan(th)*Bh\n",
        "print(B,\"Teslas vertical\")\n",
        "A = L*v\n",
        "print(A,\"metres sq\")\n",
        "\n",
        "E = B * A\n",
        "print(E,\"V\")\n",
        "\n",
        "#d\n",
        "# 50V\n",
        "print(50/math.sqrt(2),\"V\")\n",
        "\n",
        "\n"
      ],
      "metadata": {
        "colab": {
          "base_uri": "https://localhost:8080/"
        },
        "id": "nyWoHat0gIR4",
        "outputId": "8c216429-f7c3-4e4e-e9bf-b5dcd013a39c"
      },
      "execution_count": 26,
      "outputs": [
        {
          "output_type": "stream",
          "name": "stdout",
          "text": [
            "4.809777445592586e-05 Teslas vertical\n",
            "10000.0 metres sq\n",
            "0.48097774455925857 V\n",
            "35.35533905932737 V\n"
          ]
        }
      ]
    },
    {
      "cell_type": "code",
      "source": [
        ""
      ],
      "metadata": {
        "id": "-AE82TASjnSy"
      },
      "execution_count": null,
      "outputs": []
    }
  ]
}