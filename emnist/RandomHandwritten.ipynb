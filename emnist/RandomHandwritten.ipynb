{
 "cells": [
  {
   "cell_type": "markdown",
   "metadata": {},
   "source": [
    "## Create Dataset Synthetic Handwriting on Cartoon Images"
   ]
  },
  {
   "cell_type": "markdown",
   "metadata": {},
   "source": [
    "### Create COCO dataset\n",
    "JSON"
   ]
  },
  {
   "cell_type": "code",
   "execution_count": 1,
   "metadata": {},
   "outputs": [],
   "source": [
    "outpath_train = \"dataset\\\\train\\\\\"\n",
    "outpath_test = \"dataset\\\\test\\\\\""
   ]
  },
  {
   "cell_type": "code",
   "execution_count": 2,
   "metadata": {},
   "outputs": [],
   "source": [
    "!mkdir -p dataset\\\\train\\\\\n",
    "!mkdir -p dataset\\\\test\\\\"
   ]
  },
  {
   "cell_type": "code",
   "execution_count": 3,
   "metadata": {},
   "outputs": [],
   "source": [
    "mypath = \"Pictures\\\\train\\\\\""
   ]
  },
  {
   "cell_type": "code",
   "execution_count": 4,
   "metadata": {},
   "outputs": [],
   "source": [
    "from scipy import io as sio\n",
    "import emnist\n",
    "import matplotlib.pyplot as plt\n",
    "from random import random\n",
    "import random\n",
    "import numpy as np\n",
    "import cv2\n",
    "\n",
    "from os import listdir,stat\n",
    "from os.path import isfile, join"
   ]
  },
  {
   "cell_type": "markdown",
   "metadata": {},
   "source": [
    "# Read text\n",
    "### Dubliner's text file"
   ]
  },
  {
   "cell_type": "code",
   "execution_count": 5,
   "metadata": {},
   "outputs": [],
   "source": [
    "lines = [line.rstrip('\\n') for line in open(\"dubliners.txt\") if ((len(line)>1) and (random.randint(0,10000) >= 995))]\n",
    "lines = [\" \".join(a.split()) for a in lines]"
   ]
  },
  {
   "cell_type": "markdown",
   "metadata": {},
   "source": [
    "## Emnist has handwritten characters"
   ]
  },
  {
   "cell_type": "code",
   "execution_count": 6,
   "metadata": {},
   "outputs": [],
   "source": [
    "images, labels = emnist.extract_training_samples('letters')"
   ]
  },
  {
   "cell_type": "markdown",
   "metadata": {},
   "source": [
    "### Index Emnist because labels are shuffled"
   ]
  },
  {
   "cell_type": "code",
   "execution_count": 7,
   "metadata": {},
   "outputs": [],
   "source": [
    "lettere = []\n",
    "for a in range(0,27):\n",
    "    lettere.append( [x for x in range(len(labels)) if (labels[x]==a)] )"
   ]
  },
  {
   "cell_type": "code",
   "execution_count": 8,
   "metadata": {},
   "outputs": [],
   "source": [
    "def writeletter(character):\n",
    "    asc = ord(character.upper())\n",
    "    \n",
    "    if asc<64:\n",
    "        if asc==32:\n",
    "            return None\n",
    "        \n",
    "    else:\n",
    "        tret = asc-64\n",
    "        \n",
    "        if tret<27:\n",
    "            lr = random.choice(lettere[tret])\n",
    "            return images[lr]\n",
    "        else:\n",
    "            return None\n",
    "    \n",
    "    "
   ]
  },
  {
   "cell_type": "markdown",
   "metadata": {},
   "source": [
    "## Bubble text creation\n",
    "### Returns\n",
    "#### 1 .Text with Ellipse\n",
    "#### 2 .Bitmap Mask \n",
    "#### 3 .ROI for text - each line of text is an ROI"
   ]
  },
  {
   "cell_type": "code",
   "execution_count": 9,
   "metadata": {},
   "outputs": [],
   "source": [
    "def bubble_text(**kwargs):\n",
    "    \n",
    "    c = kwargs.get('sent_no', None)\n",
    "    if c is None:\n",
    "        sent_no = random.randint(0,len(lines))\n",
    "    else:\n",
    "        sent_no = c\n",
    "    \n",
    "    sentence = lines[sent_no]+\" \"\n",
    "    img = np.zeros([560,560],dtype=np.uint8)*255\n",
    "    x=0\n",
    "    y=0\n",
    "    xmax = 0\n",
    "    cnt = 0\n",
    "    roi = []\n",
    "    \n",
    "    ## top left corner of area \n",
    "    (px,py) = (x,y)\n",
    "    \n",
    "    for a in sentence:\n",
    "        cnt = cnt + 1\n",
    "        if ord(a)==32:\n",
    "            ## wordwrap\n",
    "            x = x + 28\n",
    "            xmax = max (xmax,x)\n",
    "            nextspace = sentence[cnt:].find(' ')\n",
    "            #print(nextspace,nextspace*28+x+28,y,sentence[cnt:])\n",
    "            if (nextspace*28+x+28)>559:\n",
    "                y=y+28\n",
    "                roi.append([(px,py),(x,y)]) ## thats's your box\n",
    "                x=0\n",
    "                (px,py)=(x,y)\n",
    "            \n",
    "        else:\n",
    "            chimg = writeletter(a)\n",
    "            if chimg is not None:\n",
    "                img[y:y+28,x:x+28]=chimg\n",
    "            x = x +28\n",
    "            xmax = max (xmax,x)\n",
    "            if x>559:\n",
    "                y=y+28\n",
    "                roi.append([(px,py),(x,y)]) ## thats's your box\n",
    "                x=0\n",
    "                (px,py)=(x,y)\n",
    "                \n",
    "    y=y+28\n",
    "    roi.append([(px,py),(x,y)]) ## thats's your box\n",
    "    \n",
    "    img = img[0:y,0:xmax]\n",
    "    boundary = 100\n",
    "    yboundary = 80\n",
    "    \n",
    "    bubble = np.zeros([y + yboundary ,xmax + boundary ],dtype=np.uint8)*255\n",
    "    bubble = cv2.ellipse(bubble, ((xmax+boundary) >> 1,(y+yboundary) >> 1), \\\n",
    "                         ((xmax+boundary) >> 1,(y+yboundary) >> 1), 0, 0,360, 255, 2)\n",
    "    \n",
    "    mask = np.zeros([y + yboundary ,xmax + boundary ],dtype=np.uint8)*255\n",
    "    mask = cv2.ellipse(mask, ((xmax+boundary) >> 1,(y+yboundary) >> 1), \\\n",
    "                         ((xmax+boundary) >> 1,(y+yboundary) >> 1), 0, 0,360, 255, -1)\n",
    "    kernel = np.ones((5,5),np.uint8)\n",
    "    mask = cv2.dilate(mask,kernel)\n",
    "    \n",
    "    boundary = boundary >> 1\n",
    "    yboundary = yboundary >> 1\n",
    "    bubble[yboundary:y+yboundary,boundary:xmax+boundary] = img\n",
    "    #print(sent_no,sentence)\n",
    "    \n",
    "    return bubble,mask,roi"
   ]
  },
  {
   "cell_type": "code",
   "execution_count": 10,
   "metadata": {},
   "outputs": [
    {
     "data": {
      "image/png": "[encoded data removed]",
      "text/plain": [
       "<Figure size 432x288 with 1 Axes>"
      ]
     },
     "metadata": {
      "needs_background": "light"
     },
     "output_type": "display_data"
    }
   ],
   "source": [
    "bbl_text,mask,roi = bubble_text(sent_no=4514)\n",
    "plt.imshow(bbl_text, cmap='gray_r');"
   ]
  },
  {
   "cell_type": "code",
   "execution_count": 11,
   "metadata": {},
   "outputs": [
    {
     "name": "stdout",
     "output_type": "stream",
     "text": [
      "[[(0, 0), (420, 28)], [(0, 28), (364, 56)], [(0, 56), (504, 84)], [(0, 84), (504, 112)], [(0, 112), (168, 140)]]\n"
     ]
    }
   ],
   "source": [
    "print(roi)"
   ]
  },
  {
   "cell_type": "code",
   "execution_count": 12,
   "metadata": {},
   "outputs": [],
   "source": [
    "def paste_im_with_mask(bg,fg,mask,y,x):\n",
    "    (yy,xx) = fg.shape\n",
    "    bg[y:y+yy,x:x+xx]=fg*mask+(1-mask)*bg[y:y+yy,x:x+xx]\n",
    "    \n",
    "    return bg"
   ]
  },
  {
   "cell_type": "markdown",
   "metadata": {},
   "source": [
    "### MRCNN directory \n",
    "    dataset\n",
    "        - train\n",
    "           *.jpg\n",
    "           train.json\n",
    "        - val\n",
    "            *.jpg\n",
    "            val.json\n",
    "            \n",
    "JSON - mrcnn Balloon dataset\n"
   ]
  },
  {
   "cell_type": "code",
   "execution_count": 13,
   "metadata": {},
   "outputs": [],
   "source": [
    "def becolon(a,b,c):\n",
    "    return \"\\\"\"+a+\"\\\":\\\"\"+b+\"\\\"\"+c+\"\\n\"\n",
    "\n",
    "def cecolon(a,b,c):\n",
    "    return \"\\\"\"+a+\"\\\":\"+b+c+\"\\n\"\n",
    "\n",
    "def oncolon(a,b):\n",
    "    return \"\\\"\"+a+\"\\\":\"+b+\"\\n\"\n",
    "\n",
    "def recolon(a,b):\n",
    "    return \"\\\"\"+a+\"\\\":{}\"+b+\"\\n\"\n",
    "\n",
    "def line_out(filename,filesize,alpx,alpy):\n",
    "    outstr = \"\\\"\"+filename+str(filesize)+\"\\\":\"\n",
    "    outstr = outstr + \"{\"\n",
    "    outstr = outstr + becolon(\"fileref\",\"\",\",\")\n",
    "    outstr = outstr + cecolon(\"size\",str(filesize),\",\")\n",
    "    outstr = outstr + becolon(\"filename\",filename,\",\")\n",
    "    outstr = outstr + becolon(\"base64_img_data\",\"\",\",\")\n",
    "    outstr = outstr + recolon(\"fileattributes\",\",\")\n",
    "    outstr = outstr + oncolon(\"regions\",\"\")\n",
    "    outstr = outstr + \"{\"\n",
    "    \n",
    "    for masks in range(len(alpx)):\n",
    "        outstr = outstr + oncolon(str(masks),\"\")\n",
    "        outstr = outstr + \"{\"\n",
    "        outstr = outstr + oncolon(\"shape_attributes\",\"\")\n",
    "        outstr = outstr + \"{\"\n",
    "        outstr = outstr + becolon(\"name\",\"polygon\",\",\")\n",
    "        outstr = outstr + cecolon(\"all_points_x\",str(alpx[masks]),\",\")\n",
    "        outstr = outstr + cecolon(\"all_points_y\",str(alpy[masks]),\"\")\n",
    "        outstr = outstr + \"},\"\n",
    "        outstr = outstr + recolon(\"region_attributes\",\"\")\n",
    "        if masks != len(alpx)-1:\n",
    "            outstr = outstr + \"},\"\n",
    "    outstr=outstr + \"}}},\"\n",
    "    \n",
    "    return outstr\n",
    "        \n",
    "    \n",
    "  "
   ]
  },
  {
   "cell_type": "code",
   "execution_count": 14,
   "metadata": {},
   "outputs": [],
   "source": [
    "trainjson = \"{\"\n",
    "testjson = \"{\""
   ]
  },
  {
   "cell_type": "markdown",
   "metadata": {},
   "source": [
    "### Load Pictures from directory: Pictures\n",
    "output to \n",
    "- \"dataset_coco\\\\images\\\\\"\n"
   ]
  },
  {
   "cell_type": "code",
   "execution_count": 15,
   "metadata": {},
   "outputs": [],
   "source": [
    "onlyfiles = [join(mypath,f) for f in listdir(mypath) if isfile(join(mypath, f))]"
   ]
  },
  {
   "cell_type": "code",
   "execution_count": 16,
   "metadata": {},
   "outputs": [],
   "source": [
    "cnt=0\n",
    "for a in onlyfiles:\n",
    "    img = cv2.imread(a,0)\n",
    "    (y,x) = img.shape   ## used to locate text bubble\n",
    "    (my,mx) = img.shape ## used tp create masks\n",
    "    \n",
    "    textbbl,mask,roi = bubble_text() \n",
    "    textbbl = 255-textbbl\n",
    "    (yy,xx) = textbbl.shape\n",
    "    \n",
    "    ### select from random size 1/6 frame (in 6 positions 1-6 ) or 1/3 frame (in 3 positions 7-9)\n",
    "    frame_poss = random.randint(1,9)\n",
    "    if frame_poss < 7 : # reduce text bbl to 1/6 size of image\n",
    "        y = int(y /3)\n",
    "        x = int(x /2)\n",
    "    else:\n",
    "        y = int(y /3)\n",
    "        \n",
    "    scalex = 1.0* (x/xx)\n",
    "    scaley = 1.0* (y/yy)\n",
    "    scale = min(scalex,scaley)\n",
    "\n",
    "    xx = int(xx*scale)\n",
    "    yy = int(yy*scale)\n",
    "    roi = [[(int((x1+36)*scale),int((y1+36)*scale)),(int((x2+36)*scale),int((y2+36)*scale))] for [(x1,y1),(x2,y2)] in roi]\n",
    "    textbbl = cv2.resize(textbbl,(xx,yy))\n",
    "    mask = cv2.resize(mask,(xx,yy))\n",
    "    (yy,xx) = textbbl.shape\n",
    "        \n",
    "    mask = mask > 127\n",
    "        \n",
    "    if frame_poss==1:\n",
    "        img = paste_im_with_mask(img,textbbl,mask,0,0)\n",
    "        \n",
    "    if frame_poss==2:\n",
    "        img = paste_im_with_mask(img,textbbl,mask,y,0)\n",
    "        roi = [[(x1,y1+y),(x2,y2+y)] for [(x1,y1),(x2,y2)] in roi]\n",
    "        \n",
    "    if frame_poss==3:\n",
    "        img = paste_im_with_mask(img,textbbl,mask,y << 1,0)\n",
    "        roi = [[(x1,y1+(y << 1)),(x2,y2+(y << 1))] for [(x1,y1),(x2,y2)] in roi]\n",
    "        \n",
    "    if frame_poss==4:\n",
    "        img = paste_im_with_mask(img,textbbl,mask,0,x)\n",
    "        roi = [[(x1+x,y1),(x2+x,y2)] for [(x1,y1),(x2,y2)] in roi]\n",
    "        \n",
    "    if frame_poss==5:\n",
    "        img = paste_im_with_mask(img,textbbl,mask,y,x)\n",
    "        roi = [[(x1+x,y1+y),(x2+x,y2+y)] for [(x1,y1),(x2,y2)] in roi]\n",
    "        \n",
    "    if frame_poss==6:\n",
    "        img = paste_im_with_mask(img,textbbl,mask,y << 1,x)\n",
    "        roi = [[(x1+x,y1+(y << 1)),(x2+x,y2+(y << 1))] for [(x1,y1),(x2,y2)] in roi]\n",
    "        \n",
    "    if frame_poss==7:\n",
    "        img = paste_im_with_mask(img,textbbl,mask,0,0)\n",
    "        \n",
    "    if frame_poss==8:\n",
    "        img = paste_im_with_mask(img,textbbl,mask,y,0)\n",
    "        roi = [[(x1,y1+y),(x2,y2+y)] for [(x1,y1),(x2,y2)] in roi]\n",
    "        \n",
    "    if frame_poss==9:\n",
    "        img = paste_im_with_mask(img,textbbl,mask,y << 1,0)\n",
    "        roi = [[(x1,y1+(y << 1)),(x2,y2+(y << 1))] for [(x1,y1),(x2,y2)] in roi]\n",
    "        \n",
    "    ferryx = [[x,x1,x1,x,x] for [(x,y),(x1,y1)] in roi]\n",
    "    ferryy = [[y,y,y1,y1,y] for [(x,y),(x1,y1)] in roi]\n",
    "    \n",
    "    cnt = cnt + 1\n",
    "    filename = str(cnt)+\".jpg\"\n",
    "    \n",
    "    \n",
    "    if random.randint(1,10)<8: ## 7/3 train/val\n",
    "        dfile = join(outpath_train, filename)\n",
    "        cv2.imwrite(dfile,img)\n",
    "        filesize = stat(dfile).st_size\n",
    "        trainjson = trainjson + line_out(filename,filesize,ferryx,ferryy)\n",
    "        \n",
    "    else:\n",
    "        dfile = join(outpath_test, filename)\n",
    "        cv2.imwrite(dfile,img)\n",
    "        filesize = stat(dfile).st_size\n",
    "        testjson = testjson + line_out(filename,filesize,ferryx,ferryy)\n",
    "        \n",
    "        \n",
    "trainjson = trainjson[:-1]+\"}\"\n",
    "testjson  = testjson[:-1]+\"}\"\n"
   ]
  },
  {
   "cell_type": "code",
   "execution_count": 17,
   "metadata": {},
   "outputs": [],
   "source": [
    "### Write Train/Val/TrainVal text files\n",
    "textfile = open(join(outpath_train,\"train.json\"), \"w\")\n",
    "a = textfile.write(trainjson)\n",
    "textfile.close()\n",
    "\n",
    "textfile = open(join(outpath_test,\"test.json\"), \"w\")\n",
    "a = textfile.write(testjson)\n",
    "textfile.close()"
   ]
  },
  {
   "cell_type": "code",
   "execution_count": 18,
   "metadata": {},
   "outputs": [],
   "source": [
    "# Used for JSON MASKS\n",
    "#outstr = outstr[:-1]\n",
    "\n",
    "#f = open(join(outpath,\"via_region_data.json\"), \"w\")\n",
    "#f.write(outstr)\n",
    "#f.close()"
   ]
  }
 ],
 "metadata": {
  "kernelspec": {
   "display_name": "Python 3",
   "language": "python",
   "name": "python3"
  },
  "language_info": {
   "codemirror_mode": {
    "name": "ipython",
    "version": 3
   },
   "file_extension": ".py",
   "mimetype": "text/x-python",
   "name": "python",
   "nbconvert_exporter": "python",
   "pygments_lexer": "ipython3",
   "version": "3.8.3"
  }
 },
 "nbformat": 4,
 "nbformat_minor": 4
}
